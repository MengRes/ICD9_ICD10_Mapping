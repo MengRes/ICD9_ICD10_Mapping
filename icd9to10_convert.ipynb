{
 "cells": [
  {
   "attachments": {},
   "cell_type": "markdown",
   "metadata": {},
   "source": [
    "This file is used to convert ICD-9 to ICD-10.\n",
    "\n",
    "What is ICD?\n",
    "\n",
    "International Classification of Diseases (ICD) codes are a set of designations used by healthcare staff to communicate diseases, symptoms, abnormal findings, and other elements of a patient's diagnosis in a way that is universally accepted by those in the medical and insurance fields. The tenth and most recent edition is known as ICD-10. "
   ]
  },
  {
   "cell_type": "code",
   "execution_count": 4,
   "metadata": {},
   "outputs": [
    {
     "data": {
      "text/html": [
       "<div>\n",
       "<style scoped>\n",
       "    .dataframe tbody tr th:only-of-type {\n",
       "        vertical-align: middle;\n",
       "    }\n",
       "\n",
       "    .dataframe tbody tr th {\n",
       "        vertical-align: top;\n",
       "    }\n",
       "\n",
       "    .dataframe thead th {\n",
       "        text-align: right;\n",
       "    }\n",
       "</style>\n",
       "<table border=\"1\" class=\"dataframe\">\n",
       "  <thead>\n",
       "    <tr style=\"text-align: right;\">\n",
       "      <th></th>\n",
       "      <th>icd9cm</th>\n",
       "      <th>icd10cm</th>\n",
       "      <th>flags</th>\n",
       "      <th>approximate</th>\n",
       "      <th>no_map</th>\n",
       "      <th>combination</th>\n",
       "      <th>scenario</th>\n",
       "      <th>choice_list</th>\n",
       "    </tr>\n",
       "  </thead>\n",
       "  <tbody>\n",
       "    <tr>\n",
       "      <th>0</th>\n",
       "      <td>0010</td>\n",
       "      <td>A000</td>\n",
       "      <td>0</td>\n",
       "      <td>0</td>\n",
       "      <td>0</td>\n",
       "      <td>0</td>\n",
       "      <td>0</td>\n",
       "      <td>0</td>\n",
       "    </tr>\n",
       "    <tr>\n",
       "      <th>1</th>\n",
       "      <td>0011</td>\n",
       "      <td>A001</td>\n",
       "      <td>0</td>\n",
       "      <td>0</td>\n",
       "      <td>0</td>\n",
       "      <td>0</td>\n",
       "      <td>0</td>\n",
       "      <td>0</td>\n",
       "    </tr>\n",
       "    <tr>\n",
       "      <th>2</th>\n",
       "      <td>0019</td>\n",
       "      <td>A009</td>\n",
       "      <td>0</td>\n",
       "      <td>0</td>\n",
       "      <td>0</td>\n",
       "      <td>0</td>\n",
       "      <td>0</td>\n",
       "      <td>0</td>\n",
       "    </tr>\n",
       "    <tr>\n",
       "      <th>3</th>\n",
       "      <td>0020</td>\n",
       "      <td>A0100</td>\n",
       "      <td>10000</td>\n",
       "      <td>1</td>\n",
       "      <td>0</td>\n",
       "      <td>0</td>\n",
       "      <td>0</td>\n",
       "      <td>0</td>\n",
       "    </tr>\n",
       "    <tr>\n",
       "      <th>4</th>\n",
       "      <td>0021</td>\n",
       "      <td>A011</td>\n",
       "      <td>0</td>\n",
       "      <td>0</td>\n",
       "      <td>0</td>\n",
       "      <td>0</td>\n",
       "      <td>0</td>\n",
       "      <td>0</td>\n",
       "    </tr>\n",
       "  </tbody>\n",
       "</table>\n",
       "</div>"
      ],
      "text/plain": [
       "  icd9cm icd10cm  flags  approximate  no_map  combination  scenario  \\\n",
       "0   0010    A000      0            0       0            0         0   \n",
       "1   0011    A001      0            0       0            0         0   \n",
       "2   0019    A009      0            0       0            0         0   \n",
       "3   0020   A0100  10000            1       0            0         0   \n",
       "4   0021    A011      0            0       0            0         0   \n",
       "\n",
       "   choice_list  \n",
       "0            0  \n",
       "1            0  \n",
       "2            0  \n",
       "3            0  \n",
       "4            0  "
      ]
     },
     "execution_count": 4,
     "metadata": {},
     "output_type": "execute_result"
    }
   ],
   "source": [
    "import os\n",
    "import pandas as pd\n",
    "import numpy as np\n",
    "import requests\n",
    "\n",
    "icd9to10_df = pd.read_csv(\"files/icd9toicd10cmgem.csv\")\n",
    "icd9to10_df.head()"
   ]
  },
  {
   "cell_type": "code",
   "execution_count": 2,
   "metadata": {},
   "outputs": [
    {
     "name": "stdout",
     "output_type": "stream",
     "text": [
      "23912\n",
      "23912\n"
     ]
    }
   ],
   "source": [
    "icd9cm_list = icd9to10_df[\"icd9cm\"].tolist()\n",
    "print(len(icd9cm_list))\n",
    "\n",
    "icd10cm_list = icd9to10_df[\"icd10cm\"].tolist()\n",
    "print(len(icd10cm_list))"
   ]
  },
  {
   "cell_type": "code",
   "execution_count": 3,
   "metadata": {},
   "outputs": [
    {
     "name": "stdout",
     "output_type": "stream",
     "text": [
      "01085\n",
      "A157\n"
     ]
    }
   ],
   "source": [
    "# test to print ICD-9 and ICD-10 code\n",
    "num = 100\n",
    "icd9_test = icd9cm_list[num]\n",
    "icd10_test = icd10cm_list[num]\n",
    "print(icd9_test)\n",
    "print(icd10_test)"
   ]
  },
  {
   "cell_type": "code",
   "execution_count": 5,
   "metadata": {},
   "outputs": [],
   "source": [
    "def get_icd10_code(description):\n",
    "    \"\"\"\n",
    "    Returns the ICD-10 code(s) for the given description using the ICD API.\n",
    "    \"\"\"\n",
    "    url = \"https://clinicaltables.nlm.nih.gov/api/icd10cm/v3/search\"\n",
    "    params = {\"sf\": \"code,name\", \"df\": \"code,name\", \"terms\": description, \"maxList\":\"20\"}\n",
    "    response = requests.get(url, params=params)\n",
    "    data = response.json()\n",
    "    return data\n",
    "\n",
    "def get_icd9_code(description):\n",
    "    \"\"\"\n",
    "    Returns the ICD-9 code(s) for the given description using the ICD API.\n",
    "    \"\"\"\n",
    "    url = \"https://clinicaltables.nlm.nih.gov/api/icd9cm_dx/v3/search\"\n",
    "    params = {\"terms\": description, \"maxList\":\"20\"}\n",
    "    response = requests.get(url, params=params)\n",
    "    data = response.json()\n",
    "    return data"
   ]
  },
  {
   "cell_type": "code",
   "execution_count": 6,
   "metadata": {},
   "outputs": [
    {
     "name": "stdout",
     "output_type": "stream",
     "text": [
      "[1, ['01085'], None, [['010.85', ' Other primary progressive tuberculosis, tubercle bacilli not found by bacteriological examination, but tuberculosis confirmed histologically']]]\n"
     ]
    }
   ],
   "source": [
    "icd9_test_search = get_icd9_code(icd9_test)\n",
    "print(icd9_test_search)"
   ]
  },
  {
   "attachments": {},
   "cell_type": "markdown",
   "metadata": {},
   "source": [
    "The output is a list. The first element is the number of result found. The second is the ICD-9 code list without comma. The last one is the results including the ICD-9 code and corresponding description."
   ]
  },
  {
   "cell_type": "code",
   "execution_count": 7,
   "metadata": {},
   "outputs": [
    {
     "name": "stdout",
     "output_type": "stream",
     "text": [
      "[1, ['3310'], None, [['331.0', \" Alzheimer's disease\"]]]\n"
     ]
    }
   ],
   "source": [
    "icd_9_disease = get_icd9_code(\"alzheimer's\")\n",
    "print(icd_9_disease)"
   ]
  },
  {
   "attachments": {},
   "cell_type": "markdown",
   "metadata": {},
   "source": [
    "Besides, we can also search ICD-9 code by input disease description."
   ]
  },
  {
   "cell_type": "code",
   "execution_count": 10,
   "metadata": {},
   "outputs": [
    {
     "name": "stdout",
     "output_type": "stream",
     "text": [
      "[6, ['R48.0', 'R48.1', 'R48.2', 'R48.3', 'R48.8', 'R48.9'], None, [['R48.0', 'Dyslexia and alexia'], ['R48.1', 'Agnosia'], ['R48.2', 'Apraxia'], ['R48.3', 'Visual agnosia'], ['R48.8', 'Other symbolic dysfunctions'], ['R48.9', 'Unspecified symbolic dysfunctions']]]\n",
      "['R48.0', 'Dyslexia and alexia']\n",
      "['R48.1', 'Agnosia']\n",
      "['R48.2', 'Apraxia']\n",
      "['R48.3', 'Visual agnosia']\n",
      "['R48.8', 'Other symbolic dysfunctions']\n",
      "['R48.9', 'Unspecified symbolic dysfunctions']\n"
     ]
    }
   ],
   "source": [
    "icd10_test = \"R48\"\n",
    "icd10_test_search = get_icd10_code(icd10_test)\n",
    "print(icd10_test_search)\n",
    "\n",
    "for i in range(len(icd10_test_search[-1])):\n",
    "    print(icd10_test_search[-1][i])"
   ]
  },
  {
   "attachments": {},
   "cell_type": "markdown",
   "metadata": {},
   "source": [
    "Use ICD-10 code to find the results. If there are several ICD-10 code match the input. All results will be listed."
   ]
  },
  {
   "cell_type": "code",
   "execution_count": 11,
   "metadata": {},
   "outputs": [
    {
     "name": "stdout",
     "output_type": "stream",
     "text": [
      "[0, [], None, []]\n"
     ]
    }
   ],
   "source": [
    "icd10_test = \"R481\"\n",
    "icd10_test_search = get_icd10_code(icd10_test)\n",
    "print(icd10_test_search)\n",
    "\n",
    "for i in range(len(icd10_test_search[-1])):\n",
    "    print(icd10_test_search[-1][i])"
   ]
  },
  {
   "attachments": {},
   "cell_type": "markdown",
   "metadata": {},
   "source": [
    "ICD-10 input need comma. If input the ICD-10 code without proper comma position, the search result would be not expected."
   ]
  },
  {
   "cell_type": "code",
   "execution_count": 12,
   "metadata": {},
   "outputs": [
    {
     "name": "stdout",
     "output_type": "stream",
     "text": [
      "[4, ['G30.8', 'G30.9', 'G30.0', 'G30.1'], None, [['G30.8', \"Other Alzheimer's disease\"], ['G30.9', \"Alzheimer's disease, unspecified\"], ['G30.0', \"Alzheimer's disease with early onset\"], ['G30.1', \"Alzheimer's disease with late onset\"]]]\n",
      "['G30.8', \"Other Alzheimer's disease\"]\n",
      "['G30.9', \"Alzheimer's disease, unspecified\"]\n",
      "['G30.0', \"Alzheimer's disease with early onset\"]\n",
      "['G30.1', \"Alzheimer's disease with late onset\"]\n"
     ]
    }
   ],
   "source": [
    "icd10_test = \"Alzheimer's\"\n",
    "icd10_test_search = get_icd10_code(icd10_test)\n",
    "print(icd10_test_search)\n",
    "\n",
    "for i in range(len(icd10_test_search[-1])):\n",
    "    print(icd10_test_search[-1][i])"
   ]
  },
  {
   "attachments": {},
   "cell_type": "markdown",
   "metadata": {},
   "source": [
    "ICD-10 also support search by disease description.\n",
    "\n",
    "`icd10` package is a tool to identify ICD-10 codes and give the description of input ICD-10 code."
   ]
  },
  {
   "cell_type": "code",
   "execution_count": 23,
   "metadata": {},
   "outputs": [
    {
     "name": "stdout",
     "output_type": "stream",
     "text": [
      "True\n",
      "VI\n",
      "G00-G99\n",
      "Diseases of the nervous system\n",
      "Alzheimer's disease\n",
      "G30\n",
      "VI\n",
      "G00-G99\n",
      "Alzheimer's disease with late onset\n",
      "G30.1\n"
     ]
    }
   ],
   "source": [
    "import icd10\n",
    "\n",
    "# Convert ICD-10 code to ICD-9 code\n",
    "status = icd10.exists('G30')\n",
    "icd10_codes = icd10.find('G30')\n",
    "\n",
    "print(status)\n",
    "print(icd10_codes.chapter)\n",
    "print(icd10_codes.block)\n",
    "print(icd10_codes.block_description)\n",
    "print(icd10_codes.description)\n",
    "print(icd10_codes)\n",
    "\n",
    "icd10_codes_2 = icd10.find('G30.1')\n",
    "print(icd10_codes_2.chapter)\n",
    "print(icd10_codes_2.block)\n",
    "print(icd10_codes_2.description)\n",
    "print(icd10_codes_2)"
   ]
  }
 ],
 "metadata": {
  "kernelspec": {
   "display_name": "python38",
   "language": "python",
   "name": "python3"
  },
  "language_info": {
   "codemirror_mode": {
    "name": "ipython",
    "version": 3
   },
   "file_extension": ".py",
   "mimetype": "text/x-python",
   "name": "python",
   "nbconvert_exporter": "python",
   "pygments_lexer": "ipython3",
   "version": "3.8.10"
  },
  "orig_nbformat": 4
 },
 "nbformat": 4,
 "nbformat_minor": 2
}
